{
 "cells": [
  {
   "cell_type": "markdown",
   "metadata": {},
   "source": [
    "This code helps find a person's progression in diabetes based on various attributes\n"
   ]
  },
  {
   "cell_type": "code",
   "execution_count": 1,
   "metadata": {},
   "outputs": [],
   "source": [
    "# Import relevant libraries\n",
    "import pandas as pd\n",
    "from sklearn.model_selection import train_test_split\n",
    "from sklearn.linear_model import LinearRegression\n",
    "from sklearn.preprocessing import MinMaxScaler\n",
    "from sklearn.preprocessing import StandardScaler\n",
    "from sklearn.metrics import r2_score"
   ]
  },
  {
   "cell_type": "markdown",
   "metadata": {},
   "source": [
    "Read diabetes.csv into your Jupyter notebook."
   ]
  },
  {
   "cell_type": "code",
   "execution_count": 2,
   "metadata": {},
   "outputs": [
    {
     "data": {
      "text/html": [
       "<div>\n",
       "<style scoped>\n",
       "    .dataframe tbody tr th:only-of-type {\n",
       "        vertical-align: middle;\n",
       "    }\n",
       "\n",
       "    .dataframe tbody tr th {\n",
       "        vertical-align: top;\n",
       "    }\n",
       "\n",
       "    .dataframe thead th {\n",
       "        text-align: right;\n",
       "    }\n",
       "</style>\n",
       "<table border=\"1\" class=\"dataframe\">\n",
       "  <thead>\n",
       "    <tr style=\"text-align: right;\">\n",
       "      <th></th>\n",
       "      <th>age</th>\n",
       "      <th>sex</th>\n",
       "      <th>bmi</th>\n",
       "      <th>bp</th>\n",
       "      <th>s1</th>\n",
       "      <th>s2</th>\n",
       "      <th>s3</th>\n",
       "      <th>s4</th>\n",
       "      <th>s5</th>\n",
       "      <th>s6</th>\n",
       "      <th>Progression</th>\n",
       "    </tr>\n",
       "  </thead>\n",
       "  <tbody>\n",
       "    <tr>\n",
       "      <th>0</th>\n",
       "      <td>0.038076</td>\n",
       "      <td>0.050680</td>\n",
       "      <td>0.061696</td>\n",
       "      <td>0.021872</td>\n",
       "      <td>-0.044223</td>\n",
       "      <td>-0.034821</td>\n",
       "      <td>-0.043401</td>\n",
       "      <td>-0.002592</td>\n",
       "      <td>0.019907</td>\n",
       "      <td>-0.017646</td>\n",
       "      <td>151.0</td>\n",
       "    </tr>\n",
       "    <tr>\n",
       "      <th>1</th>\n",
       "      <td>-0.001882</td>\n",
       "      <td>-0.044642</td>\n",
       "      <td>-0.051474</td>\n",
       "      <td>-0.026328</td>\n",
       "      <td>-0.008449</td>\n",
       "      <td>-0.019163</td>\n",
       "      <td>0.074412</td>\n",
       "      <td>-0.039493</td>\n",
       "      <td>-0.068332</td>\n",
       "      <td>-0.092204</td>\n",
       "      <td>75.0</td>\n",
       "    </tr>\n",
       "    <tr>\n",
       "      <th>2</th>\n",
       "      <td>0.085299</td>\n",
       "      <td>0.050680</td>\n",
       "      <td>0.044451</td>\n",
       "      <td>-0.005670</td>\n",
       "      <td>-0.045599</td>\n",
       "      <td>-0.034194</td>\n",
       "      <td>-0.032356</td>\n",
       "      <td>-0.002592</td>\n",
       "      <td>0.002861</td>\n",
       "      <td>-0.025930</td>\n",
       "      <td>141.0</td>\n",
       "    </tr>\n",
       "    <tr>\n",
       "      <th>3</th>\n",
       "      <td>-0.089063</td>\n",
       "      <td>-0.044642</td>\n",
       "      <td>-0.011595</td>\n",
       "      <td>-0.036656</td>\n",
       "      <td>0.012191</td>\n",
       "      <td>0.024991</td>\n",
       "      <td>-0.036038</td>\n",
       "      <td>0.034309</td>\n",
       "      <td>0.022688</td>\n",
       "      <td>-0.009362</td>\n",
       "      <td>206.0</td>\n",
       "    </tr>\n",
       "    <tr>\n",
       "      <th>4</th>\n",
       "      <td>0.005383</td>\n",
       "      <td>-0.044642</td>\n",
       "      <td>-0.036385</td>\n",
       "      <td>0.021872</td>\n",
       "      <td>0.003935</td>\n",
       "      <td>0.015596</td>\n",
       "      <td>0.008142</td>\n",
       "      <td>-0.002592</td>\n",
       "      <td>-0.031988</td>\n",
       "      <td>-0.046641</td>\n",
       "      <td>135.0</td>\n",
       "    </tr>\n",
       "  </tbody>\n",
       "</table>\n",
       "</div>"
      ],
      "text/plain": [
       "        age       sex       bmi        bp        s1        s2        s3  \\\n",
       "0  0.038076  0.050680  0.061696  0.021872 -0.044223 -0.034821 -0.043401   \n",
       "1 -0.001882 -0.044642 -0.051474 -0.026328 -0.008449 -0.019163  0.074412   \n",
       "2  0.085299  0.050680  0.044451 -0.005670 -0.045599 -0.034194 -0.032356   \n",
       "3 -0.089063 -0.044642 -0.011595 -0.036656  0.012191  0.024991 -0.036038   \n",
       "4  0.005383 -0.044642 -0.036385  0.021872  0.003935  0.015596  0.008142   \n",
       "\n",
       "         s4        s5        s6  Progression  \n",
       "0 -0.002592  0.019907 -0.017646        151.0  \n",
       "1 -0.039493 -0.068332 -0.092204         75.0  \n",
       "2 -0.002592  0.002861 -0.025930        141.0  \n",
       "3  0.034309  0.022688 -0.009362        206.0  \n",
       "4 -0.002592 -0.031988 -0.046641        135.0  "
      ]
     },
     "execution_count": 2,
     "metadata": {},
     "output_type": "execute_result"
    }
   ],
   "source": [
    "# Read diabetes.csv file using pandas into Jupyter notebook\n",
    "df = pd.read_csv('diabetes.csv')\n",
    "# Use head to check if the data was read correctly\n",
    "df.head()"
   ]
  },
  {
   "cell_type": "markdown",
   "metadata": {},
   "source": [
    "The diabetes.csv aims to predict a person’s progression in the condition\n",
    "with respect to various attributes about them.\n",
    "Differentiate between the independent variables and the dependent\n",
    "variable and assign them to variables x and y"
   ]
  },
  {
   "cell_type": "markdown",
   "metadata": {},
   "source": [
    "A: The dependent variable is Progression as our aim is to predict a person's progression in the condition. The independent variables are all other attributes such as age, sex, bmi, bp and s1 to s6"
   ]
  },
  {
   "cell_type": "markdown",
   "metadata": {},
   "source": [
    "Generate training and test sets comprising 80% and 20% of the data\n",
    "respectively"
   ]
  },
  {
   "cell_type": "code",
   "execution_count": 3,
   "metadata": {},
   "outputs": [
    {
     "name": "stdout",
     "output_type": "stream",
     "text": [
      "Intercept: \n",
      " 152.13348416289597\n",
      "Coefficients: \n",
      " [ -10.0098663  -239.81564367  519.84592005  324.3846455  -792.17563855\n",
      "  476.73902101  101.04326794  177.06323767  751.27369956   67.62669218]\n",
      "Training data: (353, 10) (353,)\n",
      "Test data: (89, 10) (89,)\n"
     ]
    }
   ],
   "source": [
    "# Generate training and test sets comprising 80% and 20% of the data respectively\n",
    "\n",
    "# Assign independent variables as X\n",
    "X = df[['age', 'sex', 'bmi', 'bp', 's1', 's2', 's3', 's4', 's5', 's6']]\n",
    "# Assign dependent variable as y\n",
    "y = df['Progression']\n",
    "\n",
    "# Initialise a linear regression model\n",
    "diabetes_model = LinearRegression() \n",
    "\n",
    "# Train model on data and find line of best fit \n",
    "diabetes_model.fit(X, y)\n",
    "\n",
    "# Print the intercept and coefficients\n",
    "print('Intercept: \\n', diabetes_model.intercept_)\n",
    "print('Coefficients: \\n', diabetes_model.coef_) \n",
    "\n",
    "# Split data as 80% training and 20% test\n",
    "rseed = 23\n",
    "X_train, X_test, y_train, y_test = train_test_split(X, y, test_size=0.2, random_state=rseed)\n",
    "\n",
    "# Print training data and test data\n",
    "print(\"Training data:\", X_train.shape, y_train.shape)\n",
    "print(\"Test data:\", X_test.shape, y_test.shape)"
   ]
  },
  {
   "cell_type": "markdown",
   "metadata": {},
   "source": [
    "Use a MinMaxScaler and StandardScaler from sklearn.preprocessing. Fit\n",
    "these scalers on the train set and use these fit scalers to transform the train\n",
    "and test sets."
   ]
  },
  {
   "cell_type": "code",
   "execution_count": 4,
   "metadata": {},
   "outputs": [],
   "source": [
    "# Fit the min max scaler and standard scalar on train data\n",
    "minmax_sc = MinMaxScaler()\n",
    "standard_sc = StandardScaler()\n",
    "minmax_sc.fit(X_train)\n",
    "standard_sc.fit(X_train)\n",
    "\n",
    "# Apply the min max scaler on train and test data and transform the data\n",
    "X_train_minmax_sc = minmax_sc.transform(X_train)\n",
    "X_test_minmax_sc = minmax_sc.transform(X_test)\n",
    "\n",
    "#Apply the standar scaler on train and test data and transform the data\n",
    "X_train_standard_sc = standard_sc.transform(X_train)\n",
    "X_test_standard_sc = standard_sc.transform(X_test)"
   ]
  },
  {
   "cell_type": "markdown",
   "metadata": {},
   "source": [
    "Generate a multiple linear regression model using the training set. Use all\n",
    "of the independent variables.\n",
    "Print out the intercept and coefficients of the trained model."
   ]
  },
  {
   "cell_type": "code",
   "execution_count": 5,
   "metadata": {},
   "outputs": [
    {
     "name": "stdout",
     "output_type": "stream",
     "text": [
      "Intercept (MinMax):  0.26313819520225934\n",
      "Coefficients (MinMax):  [  -4.325416    -25.87489936  130.23755571   79.72225993 -281.78073485\n",
      "  169.4272368    62.57500688   61.16459841  195.21322347   20.61117695]\n",
      "Intercept (Standard):  147.78470254957506\n",
      "Coefficients (Standard):  [ -0.95567861 -12.89955019  24.0062771   15.36227276 -47.12832261\n",
      "  29.63772795  10.58261516  12.38396033  38.62646575   3.59889203]\n"
     ]
    }
   ],
   "source": [
    "# Fit the model using the min max scaled training data\n",
    "diabetes_model_minmax = LinearRegression()\n",
    "diabetes_model_minmax.fit(X_train_minmax_sc, y_train)\n",
    "\n",
    "# Print intercept and coefficients of trained model\n",
    "print('Intercept (MinMax): ', diabetes_model_minmax.intercept_)\n",
    "print('Coefficients (MinMax): ', diabetes_model_minmax.coef_)\n",
    "\n",
    "# Fit the model using the standard scaled training data\n",
    "diabetes_model.fit(X_train_standard_sc, y_train)\n",
    "\n",
    "# Print intercept and coefficients of trained model\n",
    "print('Intercept (Standard): ', diabetes_model.intercept_)\n",
    "print('Coefficients (Standard): ', diabetes_model.coef_)"
   ]
  },
  {
   "cell_type": "markdown",
   "metadata": {},
   "source": [
    "Generate predictions for the test set. Compute R-squared for your model on the test set. You can use r2_score from sklearn.metrics to obtain this score.\n"
   ]
  },
  {
   "cell_type": "code",
   "execution_count": 6,
   "metadata": {},
   "outputs": [
    {
     "name": "stdout",
     "output_type": "stream",
     "text": [
      "R-squared (Min-Max):  0.4588\n",
      "R-squared(Standard):  0.4588\n",
      "R2 Score (Min Max): 0.4588\n",
      "R2 Score (Standard): 0.4588\n"
     ]
    }
   ],
   "source": [
    "# Generate predictions for min max scaled test set\n",
    "y_pred = diabetes_model_minmax.predict(X_test_minmax_sc)\n",
    "\n",
    "# Compute R_squared for model based on test data. Use r2_score from sklearn.metrics\n",
    "R_squared = r2_score(y_test, y_pred)\n",
    "print('R-squared (Min-Max): ', round(R_squared, 4))\n",
    "\n",
    "# Generate predictions for standard scaled test set\n",
    "y_pred = diabetes_model.predict(X_test_standard_sc)\n",
    "\n",
    "# Compute R_squared for model based on test data. Use r2_score from sklearn.metrics\n",
    "R_squared = r2_score(y_test, y_pred)\n",
    "print('R-squared(Standard): ', round(R_squared,4))\n",
    "\n",
    "#Other way of obtaining R2 Score\n",
    "print(\"R2 Score (Min Max):\", round(diabetes_model_minmax.score(X_test_minmax_sc, y_test), 4))\n",
    "print(\"R2 Score (Standard):\", round(diabetes_model.score(X_test_standard_sc, y_test), 4))"
   ]
  }
 ],
 "metadata": {
  "kernelspec": {
   "display_name": "Python 3",
   "language": "python",
   "name": "python3"
  },
  "language_info": {
   "codemirror_mode": {
    "name": "ipython",
    "version": 3
   },
   "file_extension": ".py",
   "mimetype": "text/x-python",
   "name": "python",
   "nbconvert_exporter": "python",
   "pygments_lexer": "ipython3",
   "version": "3.11.5"
  },
  "orig_nbformat": 4
 },
 "nbformat": 4,
 "nbformat_minor": 2
}
